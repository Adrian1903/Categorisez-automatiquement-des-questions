{
 "metadata": {
  "language_info": {
   "codemirror_mode": {
    "name": "ipython",
    "version": 3
   },
   "file_extension": ".py",
   "mimetype": "text/x-python",
   "name": "python",
   "nbconvert_exporter": "python",
   "pygments_lexer": "ipython3",
   "version": "3.7.6-final"
  },
  "orig_nbformat": 2,
  "kernelspec": {
   "name": "python3",
   "display_name": "Python 3"
  }
 },
 "nbformat": 4,
 "nbformat_minor": 2,
 "cells": [
  {
   "cell_type": "markdown",
   "metadata": {},
   "source": [
    "# Notebook d'exploration SQL Stack\n",
    "## Adrian Rodriguez\n",
    "## Projet 5 parcours Ingénieur Machine Learning\n",
    "Accès projet git : https://github.com/Adrian1903/Categorisez-automatiquement-des-questions   \n",
    "Plus d'informations : https://openclassrooms.com/fr/paths/148-ingenieur-machine-learning"
   ]
  },
  {
   "cell_type": "markdown",
   "metadata": {},
   "source": [
    "---\n",
    "# 0. Contexte"
   ]
  },
  {
   "cell_type": "markdown",
   "metadata": {},
   "source": [
    "Stack Overflow est un site célèbre de questions-réponses liées au développement informatique. Pour poser une question sur ce site, il faut entrer plusieurs tags de manière à retrouver facilement la question par la suite. Pour les utilisateurs expérimentés, cela ne pose pas de problème, mais pour les nouveaux utilisateurs, il serait judicieux de suggérer quelques tags relatifs à la question posée.\n",
    "\n",
    "Amateur de Stack Overflow, qui vous a souvent sauvé la mise, vous décidez d'aider la communauté en retour. Pour cela, vous développez un système de suggestion de tag pour le site. Celui-ci prendra la forme d’un algorithme de machine learning qui assigne automatiquement plusieurs tags pertinents à une question.\n",
    "\n",
    "Les données\n",
    "Stack Overflow propose un outil d’export de données - \"stackexchange explorer\", qui recense un grand nombre de données authentiques de la plateforme d’entraide. \n",
    "\n",
    "Contraintes :\n",
    "- Mettre en œuvre une approche non supervisée.\n",
    "- Utiliser une approche supervisée ou non pour extraire des tags à partir des résultats précédents.\n",
    "- Comparer ses résultats à une approche purement supervisée, après avoir appliqué des méthodes d’extraction de features spécifiques des données textuelles.\n",
    "- Mettre en place une méthode d’évaluation propre, avec une séparation du jeu de données pour l’évaluation.\n",
    "- Pour suivre les modifications du code final à déployer, utiliser un logiciel de gestion de versions, par exemple Git."
   ]
  },
  {
   "cell_type": "markdown",
   "metadata": {},
   "source": [
    "Le but de ce notebook est d'explorer la structure de la base de la base de posts de Stack. L'objectif final est d'obtenir une requête optimale pour la phase de nettoyage. Le requête de base sera généraliste pour être affiné précisément à la fin de ce notebook."
   ]
  },
  {
   "cell_type": "code",
   "execution_count": 23,
   "metadata": {},
   "outputs": [],
   "source": [
    "import pandas as pd\n",
    "pd.options.display.max_columns = None\n",
    "from IPython.display import Image"
   ]
  },
  {
   "cell_type": "markdown",
   "metadata": {},
   "source": [
    "---\n",
    "# 1. Importation et exploration préliminaire\n",
    "Les données ont été extraite du site stackexchangeexplorer avec une requête généraliste. J'ai traité des post récents, avec un minimum de maturité, laissant aux utilisateurs finaux d'apporter suffisement d'élements à la question.    \n",
    "Requête SQL de base : \n",
    "```\n",
    "DECLARE @max_date as DATETIME = DATEADD(MONTH, -1, GETDATE())\n",
    "\n",
    "SELECT TOP 1000 *    \n",
    "FROM posts\n",
    "WHERE CreationDate < @max_date\n",
    "ORDER BY CreationDate DESC\n",
    "```\n",
    "   \n",
    "Les données ont été stockées dans le fichier 'QueryResults.csv'."
   ]
  },
  {
   "cell_type": "code",
   "execution_count": 4,
   "metadata": {},
   "outputs": [],
   "source": [
    "stack_raw = pd.read_csv('src/QueryResults.csv')"
   ]
  },
  {
   "cell_type": "code",
   "execution_count": 5,
   "metadata": {},
   "outputs": [
    {
     "output_type": "execute_result",
     "data": {
      "text/plain": "         Id  PostTypeId  AcceptedAnswerId    ParentId         CreationDate  \\\n0  63091317           1        63091512.0         NaN  2020-07-25 17:22:38   \n1  63091316           2               NaN  52295117.0  2020-07-25 17:22:34   \n2  63091314           1               NaN         NaN  2020-07-25 17:22:20   \n3  63091312           1        63091404.0         NaN  2020-07-25 17:22:17   \n4  63091311           1               NaN         NaN  2020-07-25 17:22:10   \n\n   DeletionDate  Score  ViewCount  \\\n0           NaN      0       50.0   \n1           NaN      0        NaN   \n2           NaN      0       41.0   \n3           NaN     -1       59.0   \n4           NaN      0       14.0   \n\n                                                Body  OwnerUserId  \\\n0  <p>I would like to add on a input a thousand s...   10823960.0   \n1  <p>I was not able to solve this problem but I ...   12891283.0   \n2  <p>I'm having some trouble using ABySS to asse...   13470135.0   \n3  <p>how can I run the for loop for &quot;n&quot...    8621683.0   \n4  <p>I have tried for a few hours to get a JSON ...   11109968.0   \n\n  OwnerDisplayName  LastEditorUserId LastEditorDisplayName  \\\n0              NaN        10823960.0                   NaN   \n1              NaN               NaN                   NaN   \n2              NaN               NaN                   NaN   \n3              NaN         1936824.0                   NaN   \n4              NaN               NaN                   NaN   \n\n          LastEditDate     LastActivityDate  \\\n0  2020-07-25 19:47:52  2020-07-25 19:47:52   \n1                  NaN  2020-07-25 17:22:34   \n2                  NaN  2020-07-26 00:17:29   \n3  2020-07-26 00:21:09  2020-07-26 00:21:09   \n4                  NaN  2020-07-25 18:44:14   \n\n                                               Title  \\\n0          Thousand separator input with React Hooks   \n1                                                NaN   \n2   Error while using ABySS to assemble SRA sequence   \n3  how can I run the for loop for m number of tim...   \n4  Kairos json to firebase database - Object of t...   \n\n                                                Tags  AnswerCount  \\\n0          <javascript><reactjs><input><react-hooks>          1.0   \n1                                                NaN          NaN   \n2  <linux><makefile><bioinformatics><dna-sequence...          1.0   \n3                                           <python>          1.0   \n4  <python><firebase><firebase-realtime-database>...          1.0   \n\n   CommentCount  FavoriteCount ClosedDate CommunityOwnedDate ContentLicense  \n0             1            2.0        NaN                NaN   CC BY-SA 4.0  \n1             0            NaN        NaN                NaN   CC BY-SA 4.0  \n2             0            NaN        NaN                NaN   CC BY-SA 4.0  \n3             2            NaN        NaN                NaN   CC BY-SA 4.0  \n4             0            NaN        NaN                NaN   CC BY-SA 4.0  ",
      "text/html": "<div>\n<style scoped>\n    .dataframe tbody tr th:only-of-type {\n        vertical-align: middle;\n    }\n\n    .dataframe tbody tr th {\n        vertical-align: top;\n    }\n\n    .dataframe thead th {\n        text-align: right;\n    }\n</style>\n<table border=\"1\" class=\"dataframe\">\n  <thead>\n    <tr style=\"text-align: right;\">\n      <th></th>\n      <th>Id</th>\n      <th>PostTypeId</th>\n      <th>AcceptedAnswerId</th>\n      <th>ParentId</th>\n      <th>CreationDate</th>\n      <th>DeletionDate</th>\n      <th>Score</th>\n      <th>ViewCount</th>\n      <th>Body</th>\n      <th>OwnerUserId</th>\n      <th>OwnerDisplayName</th>\n      <th>LastEditorUserId</th>\n      <th>LastEditorDisplayName</th>\n      <th>LastEditDate</th>\n      <th>LastActivityDate</th>\n      <th>Title</th>\n      <th>Tags</th>\n      <th>AnswerCount</th>\n      <th>CommentCount</th>\n      <th>FavoriteCount</th>\n      <th>ClosedDate</th>\n      <th>CommunityOwnedDate</th>\n      <th>ContentLicense</th>\n    </tr>\n  </thead>\n  <tbody>\n    <tr>\n      <th>0</th>\n      <td>63091317</td>\n      <td>1</td>\n      <td>63091512.0</td>\n      <td>NaN</td>\n      <td>2020-07-25 17:22:38</td>\n      <td>NaN</td>\n      <td>0</td>\n      <td>50.0</td>\n      <td>&lt;p&gt;I would like to add on a input a thousand s...</td>\n      <td>10823960.0</td>\n      <td>NaN</td>\n      <td>10823960.0</td>\n      <td>NaN</td>\n      <td>2020-07-25 19:47:52</td>\n      <td>2020-07-25 19:47:52</td>\n      <td>Thousand separator input with React Hooks</td>\n      <td>&lt;javascript&gt;&lt;reactjs&gt;&lt;input&gt;&lt;react-hooks&gt;</td>\n      <td>1.0</td>\n      <td>1</td>\n      <td>2.0</td>\n      <td>NaN</td>\n      <td>NaN</td>\n      <td>CC BY-SA 4.0</td>\n    </tr>\n    <tr>\n      <th>1</th>\n      <td>63091316</td>\n      <td>2</td>\n      <td>NaN</td>\n      <td>52295117.0</td>\n      <td>2020-07-25 17:22:34</td>\n      <td>NaN</td>\n      <td>0</td>\n      <td>NaN</td>\n      <td>&lt;p&gt;I was not able to solve this problem but I ...</td>\n      <td>12891283.0</td>\n      <td>NaN</td>\n      <td>NaN</td>\n      <td>NaN</td>\n      <td>NaN</td>\n      <td>2020-07-25 17:22:34</td>\n      <td>NaN</td>\n      <td>NaN</td>\n      <td>NaN</td>\n      <td>0</td>\n      <td>NaN</td>\n      <td>NaN</td>\n      <td>NaN</td>\n      <td>CC BY-SA 4.0</td>\n    </tr>\n    <tr>\n      <th>2</th>\n      <td>63091314</td>\n      <td>1</td>\n      <td>NaN</td>\n      <td>NaN</td>\n      <td>2020-07-25 17:22:20</td>\n      <td>NaN</td>\n      <td>0</td>\n      <td>41.0</td>\n      <td>&lt;p&gt;I'm having some trouble using ABySS to asse...</td>\n      <td>13470135.0</td>\n      <td>NaN</td>\n      <td>NaN</td>\n      <td>NaN</td>\n      <td>NaN</td>\n      <td>2020-07-26 00:17:29</td>\n      <td>Error while using ABySS to assemble SRA sequence</td>\n      <td>&lt;linux&gt;&lt;makefile&gt;&lt;bioinformatics&gt;&lt;dna-sequence...</td>\n      <td>1.0</td>\n      <td>0</td>\n      <td>NaN</td>\n      <td>NaN</td>\n      <td>NaN</td>\n      <td>CC BY-SA 4.0</td>\n    </tr>\n    <tr>\n      <th>3</th>\n      <td>63091312</td>\n      <td>1</td>\n      <td>63091404.0</td>\n      <td>NaN</td>\n      <td>2020-07-25 17:22:17</td>\n      <td>NaN</td>\n      <td>-1</td>\n      <td>59.0</td>\n      <td>&lt;p&gt;how can I run the for loop for &amp;quot;n&amp;quot...</td>\n      <td>8621683.0</td>\n      <td>NaN</td>\n      <td>1936824.0</td>\n      <td>NaN</td>\n      <td>2020-07-26 00:21:09</td>\n      <td>2020-07-26 00:21:09</td>\n      <td>how can I run the for loop for m number of tim...</td>\n      <td>&lt;python&gt;</td>\n      <td>1.0</td>\n      <td>2</td>\n      <td>NaN</td>\n      <td>NaN</td>\n      <td>NaN</td>\n      <td>CC BY-SA 4.0</td>\n    </tr>\n    <tr>\n      <th>4</th>\n      <td>63091311</td>\n      <td>1</td>\n      <td>NaN</td>\n      <td>NaN</td>\n      <td>2020-07-25 17:22:10</td>\n      <td>NaN</td>\n      <td>0</td>\n      <td>14.0</td>\n      <td>&lt;p&gt;I have tried for a few hours to get a JSON ...</td>\n      <td>11109968.0</td>\n      <td>NaN</td>\n      <td>NaN</td>\n      <td>NaN</td>\n      <td>NaN</td>\n      <td>2020-07-25 18:44:14</td>\n      <td>Kairos json to firebase database - Object of t...</td>\n      <td>&lt;python&gt;&lt;firebase&gt;&lt;firebase-realtime-database&gt;...</td>\n      <td>1.0</td>\n      <td>0</td>\n      <td>NaN</td>\n      <td>NaN</td>\n      <td>NaN</td>\n      <td>CC BY-SA 4.0</td>\n    </tr>\n  </tbody>\n</table>\n</div>"
     },
     "metadata": {},
     "execution_count": 5
    }
   ],
   "source": [
    "stack_raw.head()"
   ]
  },
  {
   "cell_type": "code",
   "execution_count": 6,
   "metadata": {},
   "outputs": [
    {
     "output_type": "execute_result",
     "data": {
      "text/plain": "(10000, 23)"
     },
     "metadata": {},
     "execution_count": 6
    }
   ],
   "source": [
    "stack_raw.shape"
   ]
  },
  {
   "cell_type": "code",
   "execution_count": 7,
   "metadata": {},
   "outputs": [
    {
     "output_type": "execute_result",
     "data": {
      "text/plain": "Index(['Id', 'PostTypeId', 'AcceptedAnswerId', 'ParentId', 'CreationDate',\n       'DeletionDate', 'Score', 'ViewCount', 'Body', 'OwnerUserId',\n       'OwnerDisplayName', 'LastEditorUserId', 'LastEditorDisplayName',\n       'LastEditDate', 'LastActivityDate', 'Title', 'Tags', 'AnswerCount',\n       'CommentCount', 'FavoriteCount', 'ClosedDate', 'CommunityOwnedDate',\n       'ContentLicense'],\n      dtype='object')"
     },
     "metadata": {},
     "execution_count": 7
    }
   ],
   "source": [
    "stack_raw.columns"
   ]
  },
  {
   "cell_type": "code",
   "execution_count": 8,
   "metadata": {},
   "outputs": [
    {
     "output_type": "execute_result",
     "data": {
      "text/plain": "Id                           0\nPostTypeId                   0\nAcceptedAnswerId          8432\nParentId                  4824\nCreationDate                 0\nDeletionDate             10000\nScore                        0\nViewCount                 5190\nBody                         5\nOwnerUserId                 30\nOwnerDisplayName          9965\nLastEditorUserId          6307\nLastEditorDisplayName     9993\nLastEditDate              6300\nLastActivityDate             0\nTitle                     5190\nTags                      5190\nAnswerCount               5190\nCommentCount                 0\nFavoriteCount             9683\nClosedDate                9724\nCommunityOwnedDate        9990\nContentLicense               0\ndtype: int64"
     },
     "metadata": {},
     "execution_count": 8
    }
   ],
   "source": [
    "stack_raw.isna().sum()"
   ]
  },
  {
   "cell_type": "code",
   "execution_count": 9,
   "metadata": {},
   "outputs": [],
   "source": [
    "stack = stack_raw.copy()"
   ]
  },
  {
   "cell_type": "markdown",
   "metadata": {},
   "source": [
    "---\n",
    "# 2. Ajout des conditions\n",
    "## 2-1. Identification des types de posts"
   ]
  },
  {
   "cell_type": "code",
   "execution_count": 10,
   "metadata": {},
   "outputs": [
    {
     "output_type": "execute_result",
     "data": {
      "text/plain": "2    5176\n1    4810\n5       7\n4       7\nName: PostTypeId, dtype: int64"
     },
     "metadata": {},
     "execution_count": 10
    }
   ],
   "source": [
    "stack.PostTypeId.value_counts()"
   ]
  },
  {
   "cell_type": "code",
   "execution_count": 11,
   "metadata": {
    "tags": []
   },
   "outputs": [
    {
     "output_type": "stream",
     "name": "stdout",
     "text": "Type de posts : 1\n"
    },
    {
     "output_type": "display_data",
     "data": {
      "text/plain": "Id       4810\nTitle    4810\nTags     4810\ndtype: int64"
     },
     "metadata": {}
    },
    {
     "output_type": "stream",
     "name": "stdout",
     "text": "Type de posts : 2\n"
    },
    {
     "output_type": "display_data",
     "data": {
      "text/plain": "Id       5176\nTitle       0\nTags        0\ndtype: int64"
     },
     "metadata": {}
    },
    {
     "output_type": "stream",
     "name": "stdout",
     "text": "Type de posts : 3\n"
    },
    {
     "output_type": "display_data",
     "data": {
      "text/plain": "Id       0\nTitle    0\nTags     0\ndtype: int64"
     },
     "metadata": {}
    },
    {
     "output_type": "stream",
     "name": "stdout",
     "text": "Type de posts : 4\n"
    },
    {
     "output_type": "display_data",
     "data": {
      "text/plain": "Id       7\nTitle    0\nTags     0\ndtype: int64"
     },
     "metadata": {}
    },
    {
     "output_type": "stream",
     "name": "stdout",
     "text": "Type de posts : 5\n"
    },
    {
     "output_type": "display_data",
     "data": {
      "text/plain": "Id       7\nTitle    0\nTags     0\ndtype: int64"
     },
     "metadata": {}
    }
   ],
   "source": [
    "columns = ['Id', 'Title', 'Tags']\n",
    "for i in range(1, 6):\n",
    "    PostId = stack.PostTypeId == i\n",
    "    print(f'Type de posts : {i}')\n",
    "    display(stack[PostId][columns].notna().sum())"
   ]
  },
  {
   "cell_type": "markdown",
   "metadata": {},
   "source": [
    "Losque l'on créé un nouveau sujet, l'utilisateur doit indiquer un titre et des tags correpondant à son sujet. Si un post ne contient ni titre, ni tags, alors il s'agit d'un post de réponse à une question.   \n",
    "De ce fait, si `PostTypeId` = 1  alors il s'agit d'un post de question, un post où je dois suggérer des tags à l'utilisateur final.\n",
    "\n",
    "Condition de requête :   \n",
    "``PostTypeId = 1``"
   ]
  },
  {
   "cell_type": "code",
   "execution_count": 12,
   "metadata": {},
   "outputs": [],
   "source": [
    "questions = stack[stack.PostTypeId == 1]"
   ]
  },
  {
   "cell_type": "markdown",
   "metadata": {},
   "source": [
    "## 2-2. Compréhension du score\n",
    "Le site de stack permet a ces utilisateurs finaux de voter la pertinence d'un post, que ce soit pour une question ou pour une réponse. Ce score permet d'évaluer la pertinence du post."
   ]
  },
  {
   "cell_type": "code",
   "execution_count": 15,
   "metadata": {},
   "outputs": [
    {
     "output_type": "execute_result",
     "data": {
      "text/plain": "-6        1\n-5        5\n-4       17\n-3       37\n-2      148\n-1      456\n 0     3082\n 1      764\n 2      193\n 3       64\n 4       21\n 5        8\n 6        7\n 7        2\n 8        1\n 10       1\n 11       2\n 61       1\nName: Score, dtype: int64"
     },
     "metadata": {},
     "execution_count": 15
    }
   ],
   "source": [
    "questions.Score.value_counts().sort_index()"
   ]
  },
  {
   "cell_type": "markdown",
   "metadata": {},
   "source": [
    "Je constate des scores négatifs ainsi que des scores positifs. Ce score me permet de faire le tri entre les questions pertinentes, vérifiées par la communauté, et les questions floues, manquant de précisions. L'exemple ci-dessous illustre la cas où un utilisateur émet un pari en réponse à la question."
   ]
  },
  {
   "cell_type": "code",
   "execution_count": 24,
   "metadata": {},
   "outputs": [
    {
     "output_type": "execute_result",
     "data": {
      "image/png": "[encoded data removed]",
      "text/plain": "<IPython.core.display.Image object>"
     },
     "metadata": {},
     "execution_count": 24
    }
   ],
   "source": [
    "Image('src/bad_post.PNG')"
   ]
  },
  {
   "cell_type": "markdown",
   "metadata": {},
   "source": [
    "Les utilisateurs pouvant voter ont une réputation d'au moins 15 points, et sont donc des utilisateurs reconnus. Ce score me permet donc de vérifier la solidité de mes questions, car ce qui est flou pour l'utilisateur final ne sera pas de bonne augure pour ma modélisation. Des questions peuvent obtenir des scores de plus 1000 points, c'est assez courant. Je fixe la limite à 20 points minimum.\n",
    "\n",
    "Condition de requête :\n",
    "`Score > 19`"
   ]
  },
  {
   "cell_type": "markdown",
   "metadata": {},
   "source": [
    "## 2-3. Choix des variables"
   ]
  },
  {
   "cell_type": "code",
   "execution_count": 32,
   "metadata": {},
   "outputs": [
    {
     "output_type": "execute_result",
     "data": {
      "text/plain": "Index(['Id', 'PostTypeId', 'AcceptedAnswerId', 'ParentId', 'CreationDate',\n       'DeletionDate', 'Score', 'ViewCount', 'Body', 'OwnerUserId',\n       'OwnerDisplayName', 'LastEditorUserId', 'LastEditorDisplayName',\n       'LastEditDate', 'LastActivityDate', 'Title', 'Tags', 'AnswerCount',\n       'CommentCount', 'FavoriteCount', 'ClosedDate', 'CommunityOwnedDate',\n       'ContentLicense'],\n      dtype='object')"
     },
     "metadata": {},
     "execution_count": 32
    }
   ],
   "source": [
    "stack.columns"
   ]
  },
  {
   "cell_type": "markdown",
   "metadata": {},
   "source": [
    "En prévision du travail à fournir, je ne vais conserver que les variables utiles à la prédictions des tags, à savoir :\n",
    "- Title,\n",
    "- Body,\n",
    "- Tags,\n",
    "\n",
    "Je garderai aussi l'Id de la question afin de tracer la questions en cas de besoin."
   ]
  },
  {
   "cell_type": "markdown",
   "metadata": {},
   "source": [
    "# 3. Quelques chiffres-clés"
   ]
  },
  {
   "cell_type": "markdown",
   "metadata": {},
   "source": [
    "## 3-1. Activité des utilisateurs finaux du site"
   ]
  },
  {
   "cell_type": "code",
   "execution_count": 28,
   "metadata": {
    "tags": []
   },
   "outputs": [
    {
     "output_type": "stream",
     "name": "stdout",
     "text": "Le site Stackoverflow recoit un post, que ce soit en question ou en réponse aux questions, toutes les 8.0 secondes et une nouvelle question toutes les 18.0 secondes\n"
    }
   ],
   "source": [
    "stack.CreationDate = pd.to_datetime(stack.CreationDate, format=\"%Y-%m-%d %H:%M:%S\")\n",
    "delta = stack.CreationDate.max() - stack.CreationDate.min()\n",
    "delay_post = round(delta.total_seconds() / len(stack), 0)\n",
    "delay_question = round(delta.total_seconds() / len(questions), 0)\n",
    "print(f'Le site Stackoverflow recoit un post, que ce soit en question ou en réponse aux questions, toutes les {delay_post} secondes et une nouvelle question toutes les {delay_question} secondes')"
   ]
  },
  {
   "cell_type": "markdown",
   "metadata": {},
   "source": [
    "## 3-2. Taux de réponse à une question"
   ]
  },
  {
   "cell_type": "code",
   "execution_count": 31,
   "metadata": {
    "tags": []
   },
   "outputs": [
    {
     "output_type": "stream",
     "name": "stdout",
     "text": "38.0 % des questions posées ne trouvent aucune réponse au bout d'1 mois.\n"
    }
   ],
   "source": [
    "no_response = round(questions.AnswerCount.value_counts().loc[0] / len(questions) * 100, 0)\n",
    "print(f\"{no_response} % des questions posées ne trouvent aucune réponse au bout d'1 mois.\")"
   ]
  },
  {
   "cell_type": "markdown",
   "metadata": {},
   "source": [
    "# 4. Requête finale"
   ]
  },
  {
   "cell_type": "markdown",
   "metadata": {},
   "source": [
    "Rappel des critères de sélections des posts :\n",
    "- Au moins 1 mois d'ancienneté (afin de laisser de la maturité au questions), les plus récentes en priorité.\n",
    "- Posts contenant des questions (PostTypeId = 1)\n",
    "- Posts reconnus fiables par des utilisateurs reconnus (pas de questions incomprises, mal tournée)\n",
    "\n",
    "```\n",
    "DECLARE @max_date as DATETIME = DATEADD(MONTH, -1, GETDATE())\n",
    "\n",
    "SELECT Id, Title, Body, Tags    \n",
    "FROM posts\n",
    "WHERE CreationDate < @max_date AND PostTypeId = 1 AND Score > 19\n",
    "ORDER BY CreationDate DESC\n",
    "```"
   ]
  }
 ]
}