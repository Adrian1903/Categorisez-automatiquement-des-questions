{
 "metadata": {
  "language_info": {
   "codemirror_mode": {
    "name": "ipython",
    "version": 3
   },
   "file_extension": ".py",
   "mimetype": "text/x-python",
   "name": "python",
   "nbconvert_exporter": "python",
   "pygments_lexer": "ipython3",
   "version": "3.7.6-final"
  },
  "orig_nbformat": 2,
  "kernelspec": {
   "name": "python3",
   "display_name": "Python 3"
  }
 },
 "nbformat": 4,
 "nbformat_minor": 2,
 "cells": [
  {
   "cell_type": "markdown",
   "metadata": {},
   "source": [
    "# Notebook de mise en production\n",
    "## Adrian Rodriguez\n",
    "## Projet 5 parcours Ingénieur Machine Learning\n",
    "Accès projet git : https://github.com/Adrian1903/Categorisez-automatiquement-des-questions   \n",
    "Plus d'informations : https://openclassrooms.com/fr/paths/148-ingenieur-machine-learning"
   ]
  },
  {
   "cell_type": "markdown",
   "metadata": {},
   "source": [
    "---\n",
    "# 0. Contexte"
   ]
  },
  {
   "cell_type": "markdown",
   "metadata": {},
   "source": [
    "Stack Overflow est un site célèbre de questions-réponses liées au développement informatique. Pour poser une question sur ce site, il faut entrer plusieurs tags de manière à retrouver facilement la question par la suite. Pour les utilisateurs expérimentés, cela ne pose pas de problème, mais pour les nouveaux utilisateurs, il serait judicieux de suggérer quelques tags relatifs à la question posée.\n",
    "\n",
    "Amateur de Stack Overflow, qui vous a souvent sauvé la mise, vous décidez d'aider la communauté en retour. Pour cela, vous développez un système de suggestion de tag pour le site. Celui-ci prendra la forme d’un algorithme de machine learning qui assigne automatiquement plusieurs tags pertinents à une question.\n",
    "\n",
    "Les données\n",
    "Stack Overflow propose un outil d’export de données - \"stackexchange explorer\", qui recense un grand nombre de données authentiques de la plateforme d’entraide. \n",
    "\n",
    "Contraintes :\n",
    "- Mettre en œuvre une approche non supervisée.\n",
    "- Utiliser une approche supervisée ou non pour extraire des tags à partir des résultats précédents.\n",
    "- Comparer ses résultats à une approche purement supervisée, après avoir appliqué des méthodes d’extraction de features spécifiques des données textuelles.\n",
    "- Mettre en place une méthode d’évaluation propre, avec une séparation du jeu de données pour l’évaluation.\n",
    "- Pour suivre les modifications du code final à déployer, utiliser un logiciel de gestion de versions, par exemple Git."
   ]
  },
  {
   "cell_type": "code",
   "execution_count": 15,
   "metadata": {},
   "outputs": [],
   "source": [
    "from api_tags import *\n",
    "import pandas as pd\n",
    "import en_core_web_sm\n",
    "import spacy\n",
    "import pickle"
   ]
  },
  {
   "cell_type": "code",
   "execution_count": 13,
   "metadata": {},
   "outputs": [],
   "source": [
    "bag_tags_lst = pd.read_csv('api/bag_tags.csv').list.to_list()"
   ]
  },
  {
   "cell_type": "code",
   "execution_count": 14,
   "metadata": {},
   "outputs": [],
   "source": [
    "nlp = spacy.load('en_core_web_sm', disable=['ner'])\n",
    "nlp.add_pipe(CleanBeforeTaggerComponent(nlp), first=True)\n",
    "nlp.add_pipe(ContractionsComponent(nlp), after='CleanBeforeTagger')\n",
    "clean = CleanAfterParserComponent(nlp)\n",
    "clean.set_protect(bag_tags_lst)\n",
    "nlp.add_pipe(clean, after='parser')"
   ]
  },
  {
   "cell_type": "code",
   "execution_count": 18,
   "metadata": {},
   "outputs": [],
   "source": [
    "unsupervised_model = pickle.load(open('api/unsupervised_model.sav', 'rb'))\n",
    "supervised_model = pickle.load(open('api/supervised_model.sav', 'rb'))"
   ]
  },
  {
   "cell_type": "code",
   "execution_count": 19,
   "metadata": {},
   "outputs": [
    {
     "output_type": "execute_result",
     "data": {
      "text/plain": "LatentDirichletAllocation(batch_size=128, doc_topic_prior=None,\n                          evaluate_every=-1, learning_decay=0.7,\n                          learning_method='batch', learning_offset=10.0,\n                          max_doc_update_iter=100, max_iter=10,\n                          mean_change_tol=0.001, n_components=15, n_jobs=None,\n                          perp_tol=0.1, random_state=123, topic_word_prior=None,\n                          total_samples=1000000.0, verbose=0)"
     },
     "metadata": {},
     "execution_count": 19
    }
   ],
   "source": [
    "unsupervised_model"
   ]
  },
  {
   "cell_type": "code",
   "execution_count": 20,
   "metadata": {},
   "outputs": [
    {
     "output_type": "execute_result",
     "data": {
      "text/plain": "OneVsRestClassifier(estimator=LogisticRegression(C=100, class_weight=None,\n                                                 dual=False, fit_intercept=True,\n                                                 intercept_scaling=1,\n                                                 l1_ratio=None, max_iter=100,\n                                                 multi_class='auto',\n                                                 n_jobs=None, penalty='l1',\n                                                 random_state=None,\n                                                 solver='liblinear', tol=0.0001,\n                                                 verbose=0, warm_start=False),\n                    n_jobs=None)"
     },
     "metadata": {},
     "execution_count": 20
    }
   ],
   "source": [
    "supervised_model"
   ]
  },
  {
   "cell_type": "code",
   "execution_count": null,
   "metadata": {},
   "outputs": [],
   "source": [
    "def unsupervised_tags(text):\n",
    "    model = pickle.load(open('api/unspervised_model.sav', 'rb'))\n",
    "    return tag"
   ]
  }
 ]
}