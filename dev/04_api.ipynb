{
 "metadata": {
  "language_info": {
   "codemirror_mode": {
    "name": "ipython",
    "version": 3
   },
   "file_extension": ".py",
   "mimetype": "text/x-python",
   "name": "python",
   "nbconvert_exporter": "python",
   "pygments_lexer": "ipython3",
   "version": "3.7.6-final"
  },
  "orig_nbformat": 2,
  "kernelspec": {
   "name": "python3",
   "display_name": "Python 3"
  }
 },
 "nbformat": 4,
 "nbformat_minor": 2,
 "cells": [
  {
   "cell_type": "markdown",
   "metadata": {},
   "source": [
    "# Notebook de mise en production\n",
    "## Adrian Rodriguez\n",
    "## Projet 5 parcours Ingénieur Machine Learning\n",
    "Accès projet git : https://github.com/Adrian1903/Categorisez-automatiquement-des-questions   \n",
    "Plus d'informations : https://openclassrooms.com/fr/paths/148-ingenieur-machine-learning"
   ]
  },
  {
   "cell_type": "markdown",
   "metadata": {},
   "source": [
    "---\n",
    "# 0. Contexte"
   ]
  },
  {
   "cell_type": "markdown",
   "metadata": {},
   "source": [
    "Stack Overflow est un site célèbre de questions-réponses liées au développement informatique. Pour poser une question sur ce site, il faut entrer plusieurs tags de manière à retrouver facilement la question par la suite. Pour les utilisateurs expérimentés, cela ne pose pas de problème, mais pour les nouveaux utilisateurs, il serait judicieux de suggérer quelques tags relatifs à la question posée.\n",
    "\n",
    "Amateur de Stack Overflow, qui vous a souvent sauvé la mise, vous décidez d'aider la communauté en retour. Pour cela, vous développez un système de suggestion de tag pour le site. Celui-ci prendra la forme d’un algorithme de machine learning qui assigne automatiquement plusieurs tags pertinents à une question.\n",
    "\n",
    "Les données\n",
    "Stack Overflow propose un outil d’export de données - \"stackexchange explorer\", qui recense un grand nombre de données authentiques de la plateforme d’entraide. \n",
    "\n",
    "Contraintes :\n",
    "- Mettre en œuvre une approche non supervisée.\n",
    "- Utiliser une approche supervisée ou non pour extraire des tags à partir des résultats précédents.\n",
    "- Comparer ses résultats à une approche purement supervisée, après avoir appliqué des méthodes d’extraction de features spécifiques des données textuelles.\n",
    "- Mettre en place une méthode d’évaluation propre, avec une séparation du jeu de données pour l’évaluation.\n",
    "- Pour suivre les modifications du code final à déployer, utiliser un logiciel de gestion de versions, par exemple Git."
   ]
  },
  {
   "cell_type": "markdown",
   "metadata": {},
   "source": [
    "# 1. Initialisation"
   ]
  },
  {
   "cell_type": "code",
   "execution_count": 1,
   "metadata": {},
   "outputs": [],
   "source": [
    "# Initialisation des bibliothèques\n",
    "from api_tags import *\n",
    "import pandas as pd\n",
    "import en_core_web_sm\n",
    "import spacy\n",
    "import pickle"
   ]
  },
  {
   "cell_type": "code",
   "execution_count": 2,
   "metadata": {},
   "outputs": [],
   "source": [
    "# Initialisation du pipeline du nettoyage de texte\n",
    "nlp = spacy.load('en_core_web_sm', disable=['ner'])\n",
    "nlp.add_pipe(CleanBeforeTaggerComponent(nlp), first=True)\n",
    "nlp.add_pipe(ContractionsComponent(nlp), after='CleanBeforeTagger')\n",
    "clean = CleanAfterParserComponent(nlp)\n",
    "bag_tags_lst = pd.read_csv('api/bag_tags.csv').list.to_list()\n",
    "clean.set_protect(bag_tags_lst)\n",
    "nlp.add_pipe(clean, after='parser')"
   ]
  },
  {
   "cell_type": "code",
   "execution_count": 3,
   "metadata": {},
   "outputs": [],
   "source": [
    "# Initialisation des modèles de prédiction\n",
    "df_topic_keywords = pd.read_csv('api/topic_keyword.csv')#, index_col='Unnamed: 0')\n",
    "count_vectorizer = pickle.load(open('api/count_vectorizer.sav', 'rb'))\n",
    "unsupervised_model = pickle.load(open('api/unsupervised_model.sav', 'rb'))\n",
    "\n",
    "tfidf_vectorizer = pickle.load(open('api/tfidf_vectorizer.sav', 'rb'))\n",
    "binarizer = pickle.load(open('api/binarizer.sav', 'rb'))\n",
    "supervised_model = pickle.load(open('api/supervised_model.sav', 'rb'))"
   ]
  },
  {
   "cell_type": "code",
   "execution_count": 4,
   "metadata": {},
   "outputs": [
    {
     "output_type": "execute_result",
     "data": {
      "text/plain": "LatentDirichletAllocation(batch_size=128, doc_topic_prior=None,\n                          evaluate_every=-1, learning_decay=0.7,\n                          learning_method='batch', learning_offset=10.0,\n                          max_doc_update_iter=100, max_iter=10,\n                          mean_change_tol=0.001, n_components=25, n_jobs=None,\n                          perp_tol=0.1, random_state=123, topic_word_prior=None,\n                          total_samples=1000000.0, verbose=0)"
     },
     "metadata": {},
     "execution_count": 4
    }
   ],
   "source": [
    "unsupervised_model"
   ]
  },
  {
   "cell_type": "markdown",
   "metadata": {},
   "source": [
    "# 2. Test"
   ]
  },
  {
   "cell_type": "code",
   "execution_count": 22,
   "metadata": {
    "tags": [
     "outputPrepend"
    ]
   },
   "outputs": [
    {
     "output_type": "stream",
     "name": "stdout",
     "text": "wdialog.InAppReviewActivity is shown only to immediately disappear.</p>\n<p>I'm calling the following code from the onResume() method of my activity:</p>\n<pre><code>                reviewManager = ReviewManagerFactory.create(AlarmClock.this);\n                Logger.logInfo(&quot;Rating: requestReviewFlow() &quot;);\n                reviewManager.requestReviewFlow().addOnSuccessListener(new OnSuccessListener&lt;ReviewInfo&gt;() {\n                    @Override\n                    public void onSuccess(ReviewInfo result) {\n                        Logger.logInfo(&quot;Rating: launchReviewFlow() &quot;);\n                        reviewManager.launchReviewFlow(AlarmClock.this, result).addOnSuccessListener(new OnSuccessListener&lt;Void&gt;() {\n                            @Override\n                            public void onSuccess(Void result) {\n                                Logger.logInfo(&quot;Rating: launchReviewFlow() success &quot;);\n                            }\n                        });\n                    }\n                });\n</code></pre>\n<p>Both listeners return success.</p>\n<p>Here is the log output:</p>\n<pre><code>2020-08-06 16:01:29.317 29618-29618/? I/MyApp: [06Aug 16:01:29.317, main]: Rating: requestReviewFlow()\n2020-08-06 16:01:29.318 29618-29618/? I/PlayCore: UID: [10409]  PID: [29618] ReviewService : requestInAppReview (com.mypackage)\n2020-08-06 16:01:29.320 29618-29774/? I/PlayCore: UID: [10409]  PID: [29618] ReviewService : Initiate binding to the service.\n2020-08-06 16:01:30.081 29618-29618/? I/PlayCore: UID: [10409]  PID: [29618] ReviewService : ServiceConnectionImpl.onServiceConnected(ComponentInfo{com.android.vending/com.google.android.finsky.inappreviewservice.InAppReviewService})\n***2020-08-06 16:01:30.082 29618-29774/? I/PlayCore: UID: [10409]  PID: [29618] ReviewService : linkToDeath***\n2020-08-06 16:01:30.355 29618-29637/? I/PlayCore: UID: [10409]  PID: [29618] OnRequestInstallCallback : onGetLaunchReviewFlowInfo\n2020-08-06 16:01:30.355 29618-29774/? I/PlayCore: UID: [10409]  PID: [29618] ReviewService : Unbind from service.\n2020-08-06 17:02:21.590 7478-7478/? I/MyApp: [06Aug 17:02:21.590, main]: Rating: launchReviewFlow() \n2020-08-06 17:02:21.630 1511-4316/? I/ActivityTaskManager: START u0 {cmp=com.android.vending/com.google.android.finsky.inappreviewdialog.InAppReviewActivity (has extras)} from uid 10122\n2020-08-06 17:02:21.750 7478-7478/? I/MyApp: [06Aug 17:02:21.750, main]: Rating: launchReviewFlow() success \n</code></pre>\n<p>Anyone had success to make this working? Any tips. Big thanks!</p>\n\n<android><google-play><google-play-core>\n<p>When trying to create a new project with 'create-react-app', I get this error</p>\n<pre><code>Installing packages. This might take a couple of minutes.\nInstalling react, react-dom, and react-scripts with cra-template...\n\nnpm ERR! code E404\nnpm ERR! 404 Not Found - GET https://registry.npmjs.org/@typescript-eslint%2feslint-plugin - Not found\nnpm ERR! 404\nnpm ERR! 404  '@typescript-eslint/eslint-plugin@^2.10.0' is not in the npm registry.\nnpm ERR! 404 You should bug the author to publish it (or use the name yourself!)\nnpm ERR! 404 It was specified as a dependency of 'react-scripts'\nnpm ERR! 404\nnpm ERR! 404 Note that you can also install from a\nnpm ERR! 404 tarball, folder, http url, or git url.\n</code></pre>\n<p>How can I fix this?</p>\n\n<reactjs><npm><create-react-app>\n<p><strong>General comment:</strong> any new answer which gives a new and useful insight into this question will be rewarded with a bonus.</p>\n<hr />\n<p>The <a href=\"https://www.gnu.org/savannah-checkouts/gnu/bash/manual/bash.html\" rel=\"nofollow noreferrer\">Bash reference manual</a> mentions that Bash supports the\nfollowing for-loop constructs:</p>\n<pre><code>for name [ [in [words ...] ] ; ] do commands; done\nfor (( expr1 ; expr2 ; expr3 )) ; do commands ; done\n</code></pre>\n<p>Surprisingly, the following for-loop constructs are also valid:</p>\n<pre><code>for i in 1 2 3; { echo $i; }\nfor ((i=1;i&lt;=3;++i)); { echo $i; }\n</code></pre>\n<p>These unusual constructs are not documented at all. Neither the <a href=\"https://www.gnu.org/savannah-checkouts/gnu/bash/manual/bash.html\" rel=\"nofollow noreferrer\">Bash\nmanual</a>, the <a href=\"https://linux.die.net/man/1/bash\" rel=\"nofollow noreferrer\">Bash man-pages</a> nor <a href=\"https://www.tldp.org/LDP/Bash-Beginners-Guide/html/Bash-Beginners-Guide.html#sect_09_01\" rel=\"nofollow noreferrer\">The Linux Documentation\nProject</a> make any mention of these constructs.</p>\n<p>When investigating the <a href=\"https://git.savannah.gnu.org/cgit/bash.git/tree/parse.y?h=bash-5.0#n805\" rel=\"nofollow noreferrer\">language grammar</a> one can see that using\nopen-and-close braces (<code>{ commands; }</code>) as an alternative to <code>do commands; done</code> is a valid construct that is implemented for both\nfor-loops and select statements and dates back to <a href=\"https://ftp.gnu.org/gnu/bash/\" rel=\"nofollow noreferrer\">Bash-1.14.7</a>\n<sup>[1]</sup>.</p>\n<p>The other two loop-constructs:</p>\n<pre><code>until test-commands; do consequent-commands; done\nwhile test-commands; do consequent-commands; done\n</code></pre>\n<p>do not have this alternative form.</p>\n<hr />\n<p>Since a lot of shell-languages are related, one can find that these\nconstructs are also defined there and mildly documented. The <a href=\"http://man.openbsd.org/ksh\" rel=\"nofollow noreferrer\">KSH manual</a> mentions:</p>\n<blockquote>\n<p>For historical reasons, open and close braces may be used instead of <code>do</code> and <code>done</code> e.g.</p>\n<pre><code>for i; { echo $i; } \n</code></pre>\n</blockquote>\n<p>while ZSH implements and <a href=\"http://zsh.sourceforge.net/Doc/Release/Shell-Grammar.html#Alternate-Forms-For-Complex-Commands\" rel=\"nofollow noreferrer\">documents</a> similar alternatives for the other loop-constructs, but with limitations. It states:</p>\n<blockquote>\n<p>For the <code>if</code>, <code>while</code> and <code>until</code> commands, in both these cases the\ntest part of the loop must also be suitably delimited, such as by\n<code>[[ ... ]]</code> or <code>(( ... ))</code>, else the end of the test will not be recognized.</p>\n</blockquote>\n<hr />\n<p><strong>Question:</strong> What is the origin of this construct and why is\nthis not propagated to the other loop-constructs?</p>\n<hr />\n<p><strong>Update 1:</strong> There are some very <a href=\"https://stackoverflow.com/questions/63247449/alternate-for-loop-construct#comment111847043_63247449\">useful</a> and <a href=\"https://stackoverflow.com/questions/63247449/alternate-for-loop-construct#comment111901747_63247449\">educational</a> comments below\nthis post pointing out that this is an undocumented Bourne Shell feature which seems to be the result of a C-vs-sh language battle in the early days.</p>\n<hr />\n<p><strong>Update 2:</strong> When asking the question: <em>Why is this language feature not documented?</em> to the <a href=\"https://lists.gnu.org/archive/html/bug-bash/2020-08/msg00058.html\" rel=\"nofollow noreferrer\">Gnu Bash mailinglist</a>, I received the following answer from Chet Ramey (current lead-developer of GNU bash):</p>\n<blockquote>\n<p>It's never been documented. The reason bash supports it (undocumented) is\nbecause it was an undocumented Bourne shell feature that we implemented\nfor compatibility. At the time, 30+ years ago, there were scripts that used\nit. I hope those scripts have gone into the dustbin of history, but who\nknows how many are using this construct now.</p>\n<p>I'm going to leave it undocumented; people should not be using it anyway.</p>\n</blockquote>\n<hr />\n<p><strong>Related questions/answers:</strong></p>\n<ul>\n<li><a href=\"https://stackoverflow.com/q/22619510/8344060\">A bash loop with braces?</a></li>\n<li><a href=\"https://stackoverflow.com/q/211378/8344060\">Hidden features of Bash</a> (<a href=\"https://stackoverflow.com/a/8870060/8344060\">this answer</a>)</li>\n<li><a href=\"https://unix.stackexchange.com/q/306940/273492\">[U&amp;L] What is the purpose of the “do” keyword in Bash for loops?</a></li>\n</ul>\n<hr />\n<p><sub><strong>Footnotes:</strong> <sup>[1]</sup> I did not find earlier versions, I do believe it predates this</sub></p>\n\n<bash><shell><sh><language-lawyer><language-history>\n<p>I have a task I found on CodeWars and I managed to solve it, however, after submitting is says:</p>\n<blockquote>\n<p>Execution timed out: (12000 ms)</p>\n</blockquote>\n<p>When I try to test the function is passed, but I guess it is too slow.\nBefore you condemn me for not finding the answer on my own. I don't really care about submitting that as a response, but I have no idea how to make it faster and that is why I am here.\nHere is the function:</p>\n<pre><code>const ls = [0, 1, 3, 6, 10]\n\nconst partsSums = (ls) =&gt; {\n    const sum = []\n    for(let i = 0, len = ls.length; i &lt; len + 1; i++) {\n        let result = ls.slice(i).reduce( (accumulator, currentValue) =&gt; accumulator + currentValue, 0)\n        sum.push(result)\n    }\n    return sum\n}\n</code></pre>\n<p>Here are the instructions:</p>\n<blockquote>\n<p>Let us consider this example (array written in general format):</p>\n<pre><code>ls = [0, 1, 3, 6, 10]\n</code></pre>\n<p>Its following parts:</p>\n<pre><code>ls = [0, 1, 3, 6, 10]\nls = [1, 3, 6, 10]\nls = [3, 6, 10]\nls = [6, 10]\nls = [10]\nls = []\n</code></pre>\n<p>The corresponding sums are (put together in a list): [20, 20, 19, 16,\n10, 0]</p>\n<p>The function parts_sums (or its variants in other languages) will take\nas parameter a list ls and return a list of the sums of its parts as\ndefined above.</p>\n</blockquote>\n\n<javascript><arrays><function><sum>\n<p>I don't understand why the following does not compile (e.g. in gcc 9.10 or MS VS C++ 2019):</p>\n<pre><code>class X {\n  public:\n    friend bool operator==(int, X const &amp;);\n};\n\nint main() {\n  2 == X();  // ok...\n  static_cast&lt;bool (*)(int, X const &amp;)&gt;(&amp;operator==);  // Error: 'operator==' not defined\n  return 0;\n}\n</code></pre>\n<p>but the following code is compiled without any issues:</p>\n<pre><code>class X {\n  public:\n};\nbool operator==(int, X const &amp;);\n\nint main() {\n  2 == X();  // ok...\n  static_cast&lt;bool (*)(int, X const &amp;)&gt;(&amp;operator==);  // OK!\n  return 0;\n}\n</code></pre>\n<p>My expectation is that a friend function (operator==) of X behaves as a standalone function (operator==). What I'm missing? Thanks</p>\n\n<c++><function-pointers><friend-function>\n<p>I had an annoying bug, where I forgot to write <code>do</code> in a <code>do ... while</code> loop.</p>\n<pre><code>int main() {\n  int status=1;\n  /*do*/ {\n    status = foo();\n  } while (status);\n}\n</code></pre>\n<p>Why does this still compile and run? It seems to me that the compiler should reject this as nonsensical or at least raise a warning (I have <code>-Wall</code> in my compiler options). I'm using C++11.</p>\n<p>From what I could tell, the braced code runs <code>{ ... }</code> and then the programme checks the condition in the while clause ad infinitum.</p>\n\n<c++>\n<p>Having this code:</p>\n<pre><code>template &lt;class IIt, class OIt&gt;\nOIt copy2(IIt begin, IIt end, OIt dest)\n{\n   while (begin != end)\n   {\n      //make gap between element addresses\n      for (int i = 0; i &lt; 99999999; i++)\n      {\n         dest++;\n      }\n      *dest++ = *begin++;\n   }\n   return dest;\n}\n\nint main(int argc, char** argv)\n{\n   vector&lt;int&gt; vec({ 1, 2, 3 });\n   vector&lt;int&gt; vec2;\n   copy2(vec.begin(), vec.end(), back_inserter(vec2));\n   for (int i : vec2)\n   {\n      cout &lt;&lt; i &lt;&lt; endl;\n   }\n}\n</code></pre>\n<p>Which takes quite a long to compile, but will finally do with the proper output</p>\n<pre><code>1\n2\n3\n</code></pre>\n<p>The problem is (<em>without knowing the inner implementation of <code>std::vector</code>, is it <code>c-style</code> array? or more complex structure?</em>), how can it properly <em>find</em> those elements in the <code>for(int i:vec2)</code>, when the address (pointers) of those elements are <em>not</em> sequential? (i.e. <em>because of the shifting of the iterator/pointer by <code>99999999</code></em>).</p>\n<p>I thought there was a requirement for <code>OutputIterator</code> to have that property, that only one-access, one-shift could be performed on it. But when you shift(add) it more than once between accessing them, then there is a gap, which is quite huge in my case. So how does it compile?</p>\n\n<c++><algorithm><templates><iterator><stdvector>\n<p>When an integer is converted to floating-point, and the value cannot be directly represented by the destination type, the nearest value is usually selected (required by IEEE-754).</p>\n<p>I would like to convert an integer to floating-point with rounding towards zero in case the integer value cannot be directly represented by the floating-point type.</p>\n<p>Example:</p>\n<pre><code>int i = 2147483647;\nfloat nearest = static_cast&lt;float&gt;(i);  // 2147483648 (likely)\nfloat towards_zero = convert(i);        // 2147483520\n</code></pre>\n\n<c++><floating-point><rounding><data-conversion>\n<p>This is something that has always been bugging me as a feature of C++ lambda expressions: The type of a C++ lambda expression is unique and anonymous, I simply cannot write it down. Even if I create two lambdas that are syntactically exactly the same, the resulting types are defined to be distinct. The consequence is, that a) lambdas can only be passed to template functions that allow the compile time, unspeakable type to be passed along with the object, and b) that lambdas are only useful once they are type erased via <code>std::function&lt;&gt;</code>.</p>\n<p>Ok, but that's just the way C++ does it, I was ready to write it off as just an irksome feature of that language. However, I just learned that Rust seemingly does the same: Each Rust function or lambda has a unique, anonymous type. And now I'm wondering: Why?</p>\n<p>So, my question is this:<br />\n<strong>What is the advantage, from a language designer point of view, to introduce the concept of a unique, anonymous type into a language?</strong></p>\n\n<c++><types><rust><language-design>\n<p>After the last update to IntelliJ 2020.2 i get the Error:</p>\n<blockquote>\n<p>Plugin &quot;Lombok&quot; is incompatible (until build 201.SNAPSHOT &lt; IC-202.6397.94).</p>\n</blockquote>\n<p>I've searched for the problem, but it seems that i'm the only one who has the problem with this IntelliJ version.</p>\n\n<intellij-idea><lombok><intellij-lombok-plugin>\n<p>I was experimenting with function pointer magic in Rust and ended up with a code snippet which I have absolutely no explanation for why it compiles and even more, why it runs.</p>\n<pre><code>fn foo() {\n    println!(&quot;This is really weird...&quot;);\n}\n\nfn caller&lt;F&gt;() where F: FnMut() {\n    let closure_ptr = 0 as *mut F;\n    let closure = unsafe { &amp;mut *closure_ptr };\n    closure();\n}\n\nfn create&lt;F&gt;(_: F) where F: FnMut() {\n    caller::&lt;F&gt;();\n}\n\nfn main() {\n    create(foo);\n    \n    create(|| println!(&quot;Okay...&quot;));\n    \n    let val = 42;\n    create(|| println!(&quot;This will seg fault: {}&quot;, val));\n}\n</code></pre>\n<p>I cannot explain <em>why</em> <code>foo</code> is being invoked by casting a null pointer in <code>caller(...)</code> to an instance of type <code>F</code>.  I would have thought that functions may only be called through corresponding function pointers, but that clearly can't be the case given that the pointer itself is null.  With that being said, it seems that I clearly misunderstand an important piece of Rust's type system.</p>\n<p><a href=\"https://play.rust-lang.org/?version=stable&amp;mode=debug&amp;edition=2018&amp;gist=e80717402ba5930d350e140b7bacf282\" rel=\"noreferrer\">Example on Playground</a></p>\n\n<rust>\n<p>My question is mainly about terminology and how to interpret the standard.</p>\n<p><a href=\"https://eel.is/c++draft/expr.rel#4\" rel=\"noreferrer\">[expr.rel]#4</a>:</p>\n<blockquote>\n<p>The result of comparing unequal pointers to objects is defined in terms of a partial order consistent with the following rules:</p>\n<p>(4.1) If two pointers point to different elements of the same array,\nor to subobjects thereof, the pointer to the element with the higher\nsubscript is required to compare greater.</p>\n<p>(4.2) If two pointers point\nto different non-static data members of the same object, or to\nsubobjects of such members, recursively, the pointer to the later\ndeclared member is required to compare greater provided the two\nmembers have the same access control ([class.access]), neither member\nis a subobject of zero size, and their class is not a union.</p>\n<p>(4.3) Otherwise, neither pointer is required to compare greater than the\nother.</p>\n</blockquote>\n<p>I am little confused as how to interpret (4.3). Does that mean that this</p>\n<pre><code>#include &lt;iostream&gt;\nint main() {\n    int x;\n    int y;\n    std::cout &lt;&lt; (&amp;x &lt; &amp;y);\n    std::cout &lt;&lt; (&amp;x &lt; &amp;y);\n}\n</code></pre>\n<p>is...</p>\n<ul>\n<li>valid C++ code and the output is either <code>11</code> or <code>00</code>.</li>\n<li>invalid code, because it has undefined behaivour</li>\n</ul>\n<p>?</p>\n<p>In other words, I know that (4.3) does apply here, but I am not sure about the implications. When the standard says &quot;it can be either A or B&quot; is this the same as saying &quot;it is undefined&quot; ?</p>\n\n<c++><pointers><language-lawyer><undefined-behavior><comparison-operators>\n<p>When I call this promise, the output does not match with the sequence of function calls. The <code>.then</code> comes before the <code>.catch</code>, even though the promise with <code>.then</code> was being called after. What is the reason for that?</p>\n<p><div class=\"snippet\" data-lang=\"js\" data-hide=\"false\" data-console=\"true\" data-babel=\"false\">\n<div class=\"snippet-code\">\n<pre class=\"snippet-code-js lang-js prettyprint-override\"><code>const verifier = (a, b) =&gt;\n  new Promise((resolve, reject) =&gt; (a &gt; b ? resolve(true) : reject(false)));\n\nverifier(3, 4)\n  .then((response) =&gt; console.log(\"response: \", response))\n  .catch((error) =&gt; console.log(\"error: \", error));\n\nverifier(5, 4)\n  .then((response) =&gt; console.log(\"response: \", response))\n  .catch((error) =&gt; console.log(\"error: \", error));</code></pre>\n</div>\n</div>\n</p>\n<p>output</p>\n<pre><code>node promises.js\nresponse: true\nerror: false\n</code></pre>\n\n<javascript><node.js>\n<p>I was trying to manipulate the field <code>x</code> of the struct <code>Foo</code> by borrowing a mutable reference from its instance <code>foo</code>.</p>\n<p>If I try to print the field <code>x</code> using the moved binding <code>y</code> of the instance <code>foo</code> <strong>after</strong> the move of the original instance, it keeps printing the value that haven't changed.</p>\n<p>Simplified example below:</p>\n<pre class=\"lang-rust prettyprint-override\"><code>struct Foo {\n    x: i32,\n}\n\nfn main() {\n    let mut foo = Foo { x: 42 };\n    let x = &amp;mut foo.x;\n    *x = 13;\n    let y = foo;\n    println!(&quot;{}&quot;, y.x); // -&gt; 42; expected result: 13\n}\n</code></pre>\n<p>Instead, if I print the moved binding <code>y</code> itself, it prints the changed value.</p>\n<pre class=\"lang-rust prettyprint-override\"><code>println!(&quot;{:?}&quot;, y); // -&gt; Foo { x: 13 }\n</code></pre>\n<p>Or, if I print something else like <code>x</code> or <code>foo.x</code> <strong>before</strong> the move, it prints the thing as expected.</p>\n<pre class=\"lang-rust prettyprint-override\"><code>println!(&quot;{}&quot;, x); // -&gt; 13\nlet y = foo;\nprintln!(&quot;{}&quot;, y.x); // -&gt; 13\n</code></pre>\n<p>Is this an intended behavior?</p>\n\n<rust><reference><move>\n<p>Is it possible to create a new data type in JavaScript, like string?</p>\n<p>Example: I have the variable <em>person</em> and I want to declare that the type of that variable is Person.</p>\n<p>Like this:</p>\n<pre><code>var person = &quot;idk&quot;\nconsole.log(typeof person) \n</code></pre>\n<p>Output: &quot;Person&quot;</p>\n\n<javascript>\n"
    }
   ],
   "source": [
    "for t, tag in zip(test.Body, test.Tags):\n",
    "    print(t)\n",
    "    print(tag)"
   ]
  },
  {
   "cell_type": "code",
   "execution_count": 29,
   "metadata": {
    "tags": []
   },
   "outputs": [
    {
     "output_type": "stream",
     "name": "stdout",
     "text": "struct priv field think priv field\n\n\nTags utilisateurs : <rust>\nTags supervisés : ['']\nTags non supervisés : ['model,size,code,class,method']\n\n\n\nplay compiler explorer interesting behavior ternary operator compiler code clang compiler code snippet considerably small call memcpy length string time different label compiler code snippet clang result ternary operator ternary operator example compiler code culprit const char[].p.s gcc call example clang compiler example thank time!sorry wall\n\n\nTags utilisateurs : <c++><assembly><optimization><clang><compiler-optimization>\nTags supervisés : ['c++,clang,compiler_optimization,language_lawyer']\nTags non supervisés : ['value,code,function,compiler,pointer']\n\n\n\nprivate package far set private pypi s3 bucket private package dependency public package course important gitlab pipeline late functional version package interested late code create new wheel test push master long way requirement setup work new public package official pypi package name force private package version number high new package package obviously hacky fragile solution apparently functionality way design initial bucket setup require maintenance administration ticket suggest devpi heavy solution administration monitoring pypi solution individual package level meaning list url package practical maybe package registry menu group point package pypi docs).we small company issue well way dummy version package version\n\n\nTags utilisateurs : <python><pypi>\nTags supervisés : ['python']\nTags non supervisés : ['component,error,python,package,class']\n\n\n\nrecently rule attention performance issue denial service java regular expression java test slow wrong regular expression test fast incredibly slow java datum regex perl python slow regular expression slow extra matching modifier character datum regular expression slow specific java\n\n\nTags utilisateurs : <java><python><regex><performance><perl>\nTags supervisés : ['java,java_8,performance,regex']\nTags non supervisés : ['string,number,code,function,test']\n\n\n\nlook example point case change c++ standard e.g. behavior behavior user code silently warning error new standard version?note ask standard behavior implementer compiler author code well answer question).i mean code version detection memory model fine\n\n\nTags utilisateurs : <c++><language-lawyer><standardization>\nTags supervisés : ['c,c++,language_lawyer']\nTags non supervisés : ['code,function,compiler,pointer,standard']\n\n\n\ntry review api troubleshooting section carefully sure app internal testing track account review app app library user try completely new account time com.google.android.finsky.inappreviewdialog.inappreviewactivity immediately code method activity listener return success.here log output success working tip big thank\n\n\nTags utilisateurs : <android><google-play><google-play-core>\nTags supervisés : ['android']\nTags non supervisés : ['error,app,test,android,studio']\n\n\n\nnew project react app errorhow fix\n\n\nTags utilisateurs : <reactjs><npm><create-react-app>\nTags supervisés : ['reactjs']\nTags non supervisés : ['error,file,project,android,studio']\n\n\n\ngeneral comment new answer new useful insight question mention bash support loop construct surprisingly loop construct valid unusual construct document mention constructs.when usingopen close brace command alternative command valid construct bothfor loop select statement loop construct alternative form.since lot language find theseconstruct mildly mention historical reason open close brace instead e.g.while zsh implement similar alternative loop construct limitation state command case thet loop suitably end test recognized.question origin construct loop constructs?update comment belowthis post undocumented bourne result c language battle early days.update question language feature receive following answer chet ramey current lead developer reason bash undocumented undocumented bourne feature compatibility time year ago script usedit script dustbin history construct undocumented people question answer early version believe\n\n\nTags utilisateurs : <bash><shell><sh><language-lawyer><language-history>\nTags supervisés : ['java']\nTags non supervisés : ['request,code,function,compiler,pointer']\n\n\n\ntask codewar manage execution try function slow.before condemn answer care response idea fast here.here function instruction let example array general format):it part corresponding sum list function parts_sum variant language parameter list ls return list sum part\n\n\nTags utilisateurs : <javascript><arrays><function><sum>\nTags supervisés : ['performance,python']\nTags non supervisés : ['string,number,code,android,list']\n\n\n\nunderstand following e.g. gcc c++ code issue expectation friend function behave standalone function operator== miss thank\n\n\nTags utilisateurs : <c++><function-pointers><friend-function>\nTags supervisés : ['c++,gcc,javascript']\nTags non supervisés : ['type,error,code,function,compiler']\n\n\n\nannoying bug loop.why compile compiler nonsensical warning compiler option code programme condition clause ad infinitum\n\n\nTags utilisateurs : <c++>\nTags supervisés : ['c++']\nTags non supervisés : ['code,function,compiler,pointer,standard']\n\n\n\ncode long compile finally proper outputthe problem inner implementation c style array complex structure properly find element address pointer element sequential shifting iterator pointer thought requirement outputiterator property access shift gap huge case compile\n\n\nTags utilisateurs : <c++><algorithm><templates><iterator><stdvector>\nTags supervisés : ['c++,java_8,pointers']\nTags non supervisés : ['value,code,function,compiler,pointer']\n\n\n\ninteger point value directly destination type near value usually select integer point case integ value directly point type.example\n\n\nTags utilisateurs : <c++><floating-point><rounding><data-conversion>\nTags supervisés : ['floating_point']\nTags non supervisés : ['value,object,array,code,function']\n\n\n\nfeature c++ lambda expression type c++ lambda expression unique anonymous simply write lambda syntactically exactly type define distinct consequence function compile time unspeakable type object lambda useful type way c++ ready irksome feature language learn rust seemingly rust function lambda unique anonymous type wonder question advantage language designer point view concept unique anonymous type language\n\n\nTags utilisateurs : <c++><types><rust><language-design>\nTags supervisés : ['c,c++,java,java_8,lambda,language_lawyer,rust']\nTags non supervisés : ['type,error,function,code,compiler']\n\n\n\nupdate error plugin lombok incompatible build problem problem intellij version\n\n\nTags utilisateurs : <intellij-idea><lombok><intellij-lombok-plugin>\nTags supervisés : ['android_gradle_plugin,intellij_idea,lombok,maven']\nTags non supervisés : ['error,file,project,xcode,list']\n\n\n\nexperiment function pointer magic rust code snippet absolutely explanation foo cast null pointer caller instance type think function function pointer clearly case pointer null clearly important piece rust type system\n\n\nTags utilisateurs : <rust>\nTags supervisés : ['rust']\nTags non supervisés : ['type,error,code,function,compiler']\n\n\n\nquestion mainly terminology result unequal pointer object define term partial order consistent rules:(4.1 pointer different element array subobject thereof pointer element highersubscript pointer different non - static datum member object tosubobject member recursively pointer member great twomember access control subobject size class pointer require great theother.i little confused mean thisis valid c++ code output 00.invalid code undefined word know sure implication standard b undefined\n\n\nTags utilisateurs : <c++><pointers><language-lawyer><undefined-behavior><comparison-operators>\nTags supervisés : ['c++,language_lawyer,pointers,undefined_behavior']\nTags non supervisés : ['code,function,compiler,pointer,standard']\n\n\n\npromise output match sequence function call come promise reason that?output\n\n\nTags utilisateurs : <javascript><node.js>\nTags supervisés : ['javascript,jestjs']\nTags non supervisés : ['string,number,code,function,column']\n\n\n\ntry field x struct foo mutable reference instance field x y instance foo original instance keep print value example instead print foo.x thing intended behavior\n\n\nTags utilisateurs : <rust><reference><move>\nTags supervisés : ['java,reference,rust']\nTags non supervisés : ['code,function,compiler,class,method']\n\n\n\npossible new data type javascript variable person want type variable output person\n\n\nTags utilisateurs : <javascript>\nTags supervisés : ['javascript']\nTags non supervisés : ['value,object,array,return,type']\n\n\n\n"
    }
   ],
   "source": [
    "test = pd.read_csv('src/test api.csv')\n",
    "for t, tag in zip(test.Body, test.Tags):\n",
    "    cleaned_text = str(nlp(t))\n",
    "    print(cleaned_text)\n",
    "    print('\\n')\n",
    "    print(f'Tags utilisateurs : {tag}')\n",
    "    print(f'Tags supervisés : {supervised_tags(cleaned_text, tfidf_vectorizer, binarizer, supervised_model)}')\n",
    "    print(f'Tags non supervisés : {unsupervised_tags(cleaned_text, count_vectorizer, df_topic_keywords, unsupervised_model)}')\n",
    "    print('\\n\\n')"
   ]
  }
 ]
}